{
 "cells": [
  {
   "cell_type": "code",
   "execution_count": 1,
   "id": "abb62a11",
   "metadata": {},
   "outputs": [],
   "source": [
    "import numpy as np\n",
    "from scipy.integrate import quad\n",
    "import matplotlib.pyplot as plt"
   ]
  },
  {
   "cell_type": "code",
   "execution_count": 2,
   "id": "7d2d5a0a",
   "metadata": {},
   "outputs": [],
   "source": [
    "def f(x):\n",
    "    return 1 / (1 + x**2)\n",
    "\n",
    "# Метод левых прямоугольников\n",
    "def left_rect(f, a, b, n):\n",
    "    h = (b - a) / n\n",
    "    result = sum(f(a + i*h) for i in range(n))\n",
    "    return h * result\n",
    "\n",
    "# Метод правых прямоугольников\n",
    "def right_rect(f, a, b, n):\n",
    "    h = (b - a) / n\n",
    "    result = sum(f(a + (i+1)*h) for i in range(n))\n",
    "    return h * result\n",
    "\n",
    "# Метод средних прямоугольников\n",
    "def middle_rect(f, a, b, n):\n",
    "    h = (b - a) / n\n",
    "    result = sum(f(a + (i+0.5)*h) for i in range(n))\n",
    "    return h * result\n",
    "\n",
    "# Метод трапеций\n",
    "def trapezoid(f, a, b, n):\n",
    "    h = (b - a) / n\n",
    "    result = 0.5 * (f(a) + f(b)) + sum(f(a + i*h) for i in range(1, n))\n",
    "    return h * result\n",
    "\n",
    "# Метод Симпсона\n",
    "def simpson(f, a, b, n):\n",
    "    if n % 2 == 1:  # Симпсон требует четное n\n",
    "        n += 1\n",
    "    h = (b - a) / n\n",
    "    result = f(a) + f(b) + 4 * sum(f(a + (i + 0.5) * h) for i in range(n)) + 2 * sum(f(a + i * h) for i in range(1, n))\n",
    "    return h * result / 6"
   ]
  },
  {
   "cell_type": "code",
   "execution_count": 3,
   "id": "39c4053d",
   "metadata": {},
   "outputs": [],
   "source": [
    "# Зададим границы интегрирования и количество разбиений\n",
    "a, b = -1, 1\n",
    "n = 1000  # Количество шагов\n",
    "\n",
    "# Вычисляем значения интегралов разными методами\n",
    "I_left = left_rect(f, a, b, n)\n",
    "I_right = right_rect(f, a, b, n)\n",
    "I_middle = middle_rect(f, a, b, n)\n",
    "I_trap = trapezoid(f, a, b, n)\n",
    "I_simpson = simpson(f, a, b, n)"
   ]
  },
  {
   "cell_type": "code",
   "execution_count": 4,
   "id": "b96e97d3",
   "metadata": {},
   "outputs": [
    {
     "name": "stdout",
     "output_type": "stream",
     "text": [
      "Левые прямоугольники: 1.5707959934615616\n",
      "Правые прямоугольники: 1.5707959934615616\n",
      "Средние прямоугольники: 1.570796493461565\n",
      "Трапеции: 1.5707959934615616\n",
      "Симпсон: 1.5707963267948972\n",
      "Точное значение: 1.5707963267948968\n"
     ]
    }
   ],
   "source": [
    "# Вывод результатов\n",
    "print(f\"Левые прямоугольники: {I_left}\")\n",
    "print(f\"Правые прямоугольники: {I_right}\")\n",
    "print(f\"Средние прямоугольники: {I_middle}\")\n",
    "print(f\"Трапеции: {I_trap}\")\n",
    "print(f\"Симпсон: {I_simpson}\")\n",
    "\n",
    "# Используем scipy для точного значения интеграла\n",
    "I_exact, _ = quad(f, a, b)\n",
    "print(f\"Точное значение: {I_exact}\")"
   ]
  },
  {
   "cell_type": "code",
   "execution_count": 5,
   "id": "ec423e40",
   "metadata": {},
   "outputs": [],
   "source": [
    "def erf(x):\n",
    "    return (2 / np.sqrt(np.pi)) * quad(lambda t: np.exp(-t**2), 0, x)[0]\n"
   ]
  },
  {
   "cell_type": "code",
   "execution_count": 6,
   "id": "fd72ac46",
   "metadata": {},
   "outputs": [
    {
     "name": "stdout",
     "output_type": "stream",
     "text": [
      "Значение erf(1) = 0.8427007929497149\n"
     ]
    }
   ],
   "source": [
    "# Пример вычисления интеграла ошибок\n",
    "x_value = 1\n",
    "erf_result = erf(x_value)\n",
    "print(f\"Значение erf({x_value}) = {erf_result}\")"
   ]
  },
  {
   "cell_type": "code",
   "execution_count": null,
   "id": "59817db5",
   "metadata": {},
   "outputs": [],
   "source": []
  }
 ],
 "metadata": {
  "kernelspec": {
   "display_name": "Python 3 (ipykernel)",
   "language": "python",
   "name": "python3"
  },
  "language_info": {
   "codemirror_mode": {
    "name": "ipython",
    "version": 3
   },
   "file_extension": ".py",
   "mimetype": "text/x-python",
   "name": "python",
   "nbconvert_exporter": "python",
   "pygments_lexer": "ipython3",
   "version": "3.11.5"
  }
 },
 "nbformat": 4,
 "nbformat_minor": 5
}
