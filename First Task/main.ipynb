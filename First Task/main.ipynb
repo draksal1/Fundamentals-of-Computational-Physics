{
 "cells": [
  {
   "cell_type": "code",
   "execution_count": 32,
   "id": "134de439",
   "metadata": {},
   "outputs": [],
   "source": [
    "import numpy as np"
   ]
  },
  {
   "cell_type": "code",
   "execution_count": 33,
   "id": "e9b96b96",
   "metadata": {},
   "outputs": [],
   "source": [
    "def calculate_machine_epsilon(dtype):\n",
    "    epsilon = dtype(1.0)\n",
    "    while dtype(1.0) + epsilon / dtype(2.0) != dtype(1.0):\n",
    "        epsilon /= dtype(2.0)\n",
    "    return epsilon"
   ]
  },
  {
   "cell_type": "code",
   "execution_count": 38,
   "id": "d2a264c5",
   "metadata": {},
   "outputs": [
    {
     "name": "stdout",
     "output_type": "stream",
     "text": [
      "Машинное эпсилон для float32: 1.1920929e-07\n",
      "Количество разрядов в мантиссе для float32: 23.0\n",
      "Машинное эпсилон для float64: 2.220446049250313e-16\n",
      "Количество разрядов в мантиссе для float64: 52.0\n"
     ]
    }
   ],
   "source": [
    "epsilon_single = calculate_machine_epsilon(np.float32)\n",
    "\n",
    "# Вычисляем машинное эпсилон для двойной точности (float64)\n",
    "epsilon_double = calculate_machine_epsilon(np.float64)\n",
    "\n",
    "\n",
    "mantissa_bits_log_single = -np.log2(epsilon_single)\n",
    "mantissa_bits_log_double = -np.log2(epsilon_double)\n",
    "\n",
    "\n",
    "print(\"Машинное эпсилон для float32:\", epsilon_single)\n",
    "print(\"Количество разрядов в мантиссе для float32:\", mantissa_bits_log_single)\n",
    "print(\"Машинное эпсилон для float64:\", epsilon_double)\n",
    "print(\"Количество разрядов в мантиссе для float64:\", mantissa_bits_log_double)"
   ]
  },
  {
   "cell_type": "code",
   "execution_count": 48,
   "id": "96215def",
   "metadata": {},
   "outputs": [],
   "source": [
    "def sum_small_to_large(limit):\n",
    "    return sum([(-1)**n / n for n in range(1, limit + 1)])\n",
    "\n",
    "# Функция для вычисления суммы от большого к малому n\n",
    "def sum_large_to_small(limit):\n",
    "    return sum([(-1)**n / n for n in range(limit, 0, -1)])\n",
    "\n",
    "# Функция для разделения положительных и отрицательных членов\n",
    "def sum_separately(limit, reverse=False):\n",
    "    positive_terms = [-1/n for n in range(1, limit, 2)] \n",
    "    negative_terms = [1/n for n in range(2, limit + 1, 2)]\n",
    "\n",
    "    if reverse:\n",
    "        return sum(positive_terms[::-1]) + sum(negative_terms[::-1])\n",
    "    else:\n",
    "        return sum(positive_terms) + sum(negative_terms)"
   ]
  },
  {
   "cell_type": "code",
   "execution_count": 53,
   "id": "39b51bd8",
   "metadata": {},
   "outputs": [
    {
     "name": "stdout",
     "output_type": "stream",
     "text": [
      "От малого к большому:  -0.6930971830599583\n",
      "От большого к малому:  -0.6930971830599453\n",
      "От большого к малому n отдельно для положительных и отрицательных слагаемых:  -0.6930971830599484\n",
      "От малого к большому n отдельно для положительных и отрицательных слагаемых:  -0.6930971830599537\n"
     ]
    }
   ],
   "source": [
    "# Предел суммы\n",
    "limit = 10000\n",
    "\n",
    "# 1. Сумма от малого к большому n\n",
    "sum_1 = sum_small_to_large(limit)\n",
    "\n",
    "# 2. Сумма от большого к малому n\n",
    "sum_2 = sum_large_to_small(limit)\n",
    "\n",
    "# 3. Сумма от большого к малому n отдельно для положительных и отрицательных слагаемых\n",
    "sum_3 = sum_separately(limit, reverse=True)\n",
    "\n",
    "# 4. Сумма от малого к большому n отдельно для положительных и отрицательных слагаемых\n",
    "sum_4 = sum_separately(limit, reverse=False)\n",
    "\n",
    "print(\"От малого к большому: \", sum_1)\n",
    "print(\"От большого к малому: \", sum_2)\n",
    "print(\"От большого к малому n отдельно для положительных и отрицательных слагаемых: \", sum_3)\n",
    "print(\"От малого к большому n отдельно для положительных и отрицательных слагаемых: \", sum_4)"
   ]
  },
  {
   "cell_type": "code",
   "execution_count": 54,
   "id": "54da7e21",
   "metadata": {},
   "outputs": [
    {
     "name": "stdout",
     "output_type": "stream",
     "text": [
      "Разность первого варианта и других:\n",
      "\n",
      "От большого к малому:  -1.2989609388114332e-14\n",
      "От большого к малому n отдельно для положительных и отрицательных слагаемых:  -9.880984919163893e-15\n",
      "От малого к большому n отдельно для положительных и отрицательных слагаемых:  -4.551914400963142e-15\n",
      "\n",
      "Разность между вариантами с разделением положительных и отрицательных: 5.329070518200751e-15\n"
     ]
    }
   ],
   "source": [
    "print(\"Разность первого варианта и других:\")\n",
    "print(\"\")\n",
    "print(\"От большого к малому: \", sum_1 - sum_2)\n",
    "print(\"От большого к малому n отдельно для положительных и отрицательных слагаемых: \", sum_1 - sum_3)\n",
    "print(\"От малого к большому n отдельно для положительных и отрицательных слагаемых: \", sum_1 - sum_4)\n",
    "print(\"\")\n",
    "print(\"Разность между вариантами с разделением положительных и отрицательных:\", sum_3 - sum_4)"
   ]
  },
  {
   "cell_type": "code",
   "execution_count": null,
   "id": "494d9233",
   "metadata": {},
   "outputs": [],
   "source": []
  }
 ],
 "metadata": {
  "kernelspec": {
   "display_name": "Python 3 (ipykernel)",
   "language": "python",
   "name": "python3"
  },
  "language_info": {
   "codemirror_mode": {
    "name": "ipython",
    "version": 3
   },
   "file_extension": ".py",
   "mimetype": "text/x-python",
   "name": "python",
   "nbconvert_exporter": "python",
   "pygments_lexer": "ipython3",
   "version": "3.11.5"
  }
 },
 "nbformat": 4,
 "nbformat_minor": 5
}
