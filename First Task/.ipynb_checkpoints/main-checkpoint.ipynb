{
 "cells": [
  {
   "cell_type": "code",
   "execution_count": 19,
   "id": "f6a0f527",
   "metadata": {},
   "outputs": [],
   "source": [
    "def calculate_machine_epsilon():\n",
    "    epsilon = 1.0\n",
    "    while (1.0 + epsilon / 2.0 != 1.0):\n",
    "        epsilon /= 2.0\n",
    "    return epsilon"
   ]
  },
  {
   "cell_type": "code",
   "execution_count": 20,
   "id": "18d97dce",
   "metadata": {},
   "outputs": [
    {
     "name": "stdout",
     "output_type": "stream",
     "text": [
      "Машинное эпсилон: 1.0\n"
     ]
    }
   ],
   "source": [
    "epsilon_single = calculate_machine_epsilon()\n",
    "\n",
    "print(\"Машинное эпсилон:\", epsilon_single)"
   ]
  },
  {
   "cell_type": "code",
   "execution_count": null,
   "id": "4b8c4986",
   "metadata": {},
   "outputs": [],
   "source": []
  }
 ],
 "metadata": {
  "kernelspec": {
   "display_name": "Python 3 (ipykernel)",
   "language": "python",
   "name": "python3"
  },
  "language_info": {
   "codemirror_mode": {
    "name": "ipython",
    "version": 3
   },
   "file_extension": ".py",
   "mimetype": "text/x-python",
   "name": "python",
   "nbconvert_exporter": "python",
   "pygments_lexer": "ipython3",
   "version": "3.11.5"
  }
 },
 "nbformat": 4,
 "nbformat_minor": 5
}
